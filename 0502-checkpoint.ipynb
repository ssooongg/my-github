{
 "cells": [
  {
   "cell_type": "code",
   "execution_count": 5,
   "id": "55e39d63",
   "metadata": {},
   "outputs": [
    {
     "data": {
      "text/plain": [
       "20"
      ]
     },
     "execution_count": 5,
     "metadata": {},
     "output_type": "execute_result"
    }
   ],
   "source": [
    " def sum_all(start, end, step):   \n",
    "    sum_value = 0\n",
    "    for i in range(start, end, step):\n",
    "        sum_value += i\n",
    "    return sum_value\n",
    "\n",
    "sum_value"
   ]
  },
  {
   "cell_type": "code",
   "execution_count": 8,
   "id": "e8ff803d",
   "metadata": {},
   "outputs": [
    {
     "data": {
      "text/plain": [
       "20"
      ]
     },
     "execution_count": 8,
     "metadata": {},
     "output_type": "execute_result"
    }
   ],
   "source": [
    "def sum_all(start, end, step):\n",
    "    sum_value = 0\n",
    "    i = start\n",
    "    while i < end :\n",
    "        sum_value += i\n",
    "        i += step\n",
    "    return sum_value\n",
    "        \n",
    "sum_all(0, 10, 2)"
   ]
  },
  {
   "cell_type": "code",
   "execution_count": 14,
   "id": "c3f5170c",
   "metadata": {},
   "outputs": [
    {
     "data": {
      "text/plain": [
       "58"
      ]
     },
     "execution_count": 14,
     "metadata": {},
     "output_type": "execute_result"
    }
   ],
   "source": [
    "import random\n",
    "\n",
    "random.randrange(0,100)"
   ]
  },
  {
   "cell_type": "code",
   "execution_count": 16,
   "id": "c4d9be74",
   "metadata": {},
   "outputs": [
    {
     "data": {
      "text/plain": [
       "[49,\n",
       " 61,\n",
       " 91,\n",
       " 59,\n",
       " 57,\n",
       " 80,\n",
       " 24,\n",
       " 39,\n",
       " 51,\n",
       " 90,\n",
       " 27,\n",
       " 27,\n",
       " 36,\n",
       " 50,\n",
       " 21,\n",
       " 57,\n",
       " 4,\n",
       " 93,\n",
       " 18,\n",
       " 2,\n",
       " 3,\n",
       " 4,\n",
       " 21,\n",
       " 66,\n",
       " 12,\n",
       " 10,\n",
       " 41,\n",
       " 88,\n",
       " 66,\n",
       " 23,\n",
       " 5,\n",
       " 68,\n",
       " 7,\n",
       " 45,\n",
       " 79,\n",
       " 83,\n",
       " 81,\n",
       " 95,\n",
       " 81,\n",
       " 87]"
      ]
     },
     "execution_count": 16,
     "metadata": {},
     "output_type": "execute_result"
    }
   ],
   "source": [
    "cp = [random.randrange(0,100) for i in range(40)]\n",
    "cp"
   ]
  },
  {
   "cell_type": "code",
   "execution_count": 17,
   "id": "e0165565",
   "metadata": {},
   "outputs": [
    {
     "data": {
      "text/plain": [
       "[84,\n",
       " 29,\n",
       " 42,\n",
       " 85,\n",
       " 88,\n",
       " 49,\n",
       " 85,\n",
       " 17,\n",
       " 50,\n",
       " 83,\n",
       " 72,\n",
       " 89,\n",
       " 74,\n",
       " 94,\n",
       " 71,\n",
       " 58,\n",
       " 11,\n",
       " 59,\n",
       " 80,\n",
       " 80,\n",
       " 78,\n",
       " 37,\n",
       " 86,\n",
       " 16,\n",
       " 86,\n",
       " 51,\n",
       " 86,\n",
       " 81,\n",
       " 8,\n",
       " 68,\n",
       " 10,\n",
       " 47,\n",
       " 70,\n",
       " 3,\n",
       " 51,\n",
       " 47,\n",
       " 92,\n",
       " 29,\n",
       " 67,\n",
       " 85]"
      ]
     },
     "execution_count": 17,
     "metadata": {},
     "output_type": "execute_result"
    }
   ],
   "source": [
    "cp = []\n",
    "for i in range(40):\n",
    "    cp.append(random.randrange(0,100))\n",
    "    \n",
    "cp"
   ]
  },
  {
   "cell_type": "code",
   "execution_count": 18,
   "id": "9ca34d55",
   "metadata": {},
   "outputs": [
    {
     "ename": "SyntaxError",
     "evalue": "invalid syntax (Temp/ipykernel_6908/4085919279.py, line 2)",
     "output_type": "error",
     "traceback": [
      "\u001b[1;36m  File \u001b[1;32m\"C:\\Users\\PC-\\AppData\\Local\\Temp/ipykernel_6908/4085919279.py\"\u001b[1;36m, line \u001b[1;32m2\u001b[0m\n\u001b[1;33m    bmi = =calc_bmi(friend)\u001b[0m\n\u001b[1;37m          ^\u001b[0m\n\u001b[1;31mSyntaxError\u001b[0m\u001b[1;31m:\u001b[0m invalid syntax\n"
     ]
    }
   ],
   "source": [
    "for friend in my_friend:\n",
    "    bmi = =calc_bmi(friend)\n",
    "    deci = decision(friend)\n",
    "    friend\n",
    "  "
   ]
  },
  {
   "cell_type": "code",
   "execution_count": null,
   "id": "d510c829",
   "metadata": {},
   "outputs": [],
   "source": []
  }
 ],
 "metadata": {
  "kernelspec": {
   "display_name": "Python 3 (ipykernel)",
   "language": "python",
   "name": "python3"
  },
  "language_info": {
   "codemirror_mode": {
    "name": "ipython",
    "version": 3
   },
   "file_extension": ".py",
   "mimetype": "text/x-python",
   "name": "python",
   "nbconvert_exporter": "python",
   "pygments_lexer": "ipython3",
   "version": "3.9.7"
  }
 },
 "nbformat": 4,
 "nbformat_minor": 5
}
